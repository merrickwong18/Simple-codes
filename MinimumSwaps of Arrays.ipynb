{
 "cells": [
  {
   "cell_type": "code",
   "execution_count": null,
   "metadata": {},
   "outputs": [],
   "source": [
    "def minimumSwaps(arr):\n",
    "    z=0\n",
    "    arr = np.asarray(arr)\n",
    "    while True:\n",
    "        print(arr)\n",
    "        a = np.argmin(arr)\n",
    "        if a != 0:\n",
    "            arr[a] = arr[0]\n",
    "            z+=1\n",
    "        arr = arr[1:]\n",
    "        if len(arr) == 1:\n",
    "            break\n",
    "        if np.array_equal(arr,sorted(arr)) == True:\n",
    "            break\n",
    "    return z"
   ]
  },
  {
   "cell_type": "code",
   "execution_count": null,
   "metadata": {},
   "outputs": [],
   "source": []
  },
  {
   "cell_type": "code",
   "execution_count": null,
   "metadata": {},
   "outputs": [],
   "source": []
  }
 ],
 "metadata": {
  "kernelspec": {
   "display_name": "Python 3",
   "language": "python",
   "name": "python3"
  },
  "language_info": {
   "codemirror_mode": {
    "name": "ipython",
    "version": 3
   },
   "file_extension": ".py",
   "mimetype": "text/x-python",
   "name": "python",
   "nbconvert_exporter": "python",
   "pygments_lexer": "ipython3",
   "version": "3.6.4"
  }
 },
 "nbformat": 4,
 "nbformat_minor": 2
}
