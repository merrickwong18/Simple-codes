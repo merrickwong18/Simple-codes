{
 "cells": [
  {
   "cell_type": "code",
   "execution_count": 5,
   "metadata": {},
   "outputs": [],
   "source": [
    "with open('test.txt', 'w+') as f:\n",
    "    for i in range(10):\n",
    "         f.write(\"This is line {:.0f}\\n\".format(i+1)) # \\r means return and \\n means new line"
   ]
  },
  {
   "cell_type": "code",
   "execution_count": 2,
   "metadata": {},
   "outputs": [
    {
     "name": "stdout",
     "output_type": "stream",
     "text": [
      "['This is line 1', '', 'This is line 2', '', 'This is line 3', '', 'This is line 4', '', 'This is line 5', '', 'This is line 6', '', 'This is line 7', '', 'This is line 8', '', 'This is line 9', '', 'This is line 10', '']\n"
     ]
    }
   ],
   "source": [
    "with open('test.txt') as f:\n",
    "    print(f.read().splitlines())"
   ]
  },
  {
   "cell_type": "code",
   "execution_count": 3,
   "metadata": {},
   "outputs": [
    {
     "name": "stdout",
     "output_type": "stream",
     "text": [
      "['This', 'is', 'line', '1', 'This', 'is', 'line', '2', 'This', 'is', 'line', '3', 'This', 'is', 'line', '4', 'This', 'is', 'line', '5', 'This', 'is', 'line', '6', 'This', 'is', 'line', '7', 'This', 'is', 'line', '8', 'This', 'is', 'line', '9', 'This', 'is', 'line', '10']\n"
     ]
    }
   ],
   "source": [
    "with open('test.txt') as f:\n",
    "    print(f.read().split())"
   ]
  },
  {
   "cell_type": "code",
   "execution_count": 4,
   "metadata": {},
   "outputs": [
    {
     "name": "stdout",
     "output_type": "stream",
     "text": [
      "['This is line 1\\n', '\\n', 'This is line 2\\n', '\\n', 'This is line 3\\n', '\\n', 'This is line 4\\n', '\\n', 'This is line 5\\n', '\\n', 'This is line 6\\n', '\\n', 'This is line 7\\n', '\\n', 'This is line 8\\n', '\\n', 'This is line 9\\n', '\\n', 'This is line 10\\n', '\\n']\n"
     ]
    }
   ],
   "source": [
    "with open('test.txt') as f:\n",
    "    print(f.readlines())"
   ]
  },
  {
   "cell_type": "code",
   "execution_count": 9,
   "metadata": {},
   "outputs": [
    {
     "name": "stdout",
     "output_type": "stream",
     "text": [
      "This is line 10\n",
      "This is line 9\n",
      "This is line 8\n",
      "This is line 7\n",
      "This is line 6\n",
      "This is line 5\n",
      "This is line 4\n",
      "This is line 3\n",
      "This is line 2\n",
      "This is line 1\n"
     ]
    }
   ],
   "source": [
    "for line in reversed(list(open('Test.txt'))):\n",
    "    print(line.rstrip())"
   ]
  },
  {
   "cell_type": "code",
   "execution_count": null,
   "metadata": {},
   "outputs": [],
   "source": []
  }
 ],
 "metadata": {
  "kernelspec": {
   "display_name": "Python 3",
   "language": "python",
   "name": "python3"
  },
  "language_info": {
   "codemirror_mode": {
    "name": "ipython",
    "version": 3
   },
   "file_extension": ".py",
   "mimetype": "text/x-python",
   "name": "python",
   "nbconvert_exporter": "python",
   "pygments_lexer": "ipython3",
   "version": "3.6.4"
  }
 },
 "nbformat": 4,
 "nbformat_minor": 2
}
