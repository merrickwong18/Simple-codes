{
 "cells": [
  {
   "cell_type": "code",
   "execution_count": 1,
   "metadata": {},
   "outputs": [
    {
     "name": "stdout",
     "output_type": "stream",
     "text": [
      "[[1.]\n",
      " [2.]\n",
      " [3.]\n",
      " [4.]\n",
      " [5.]\n",
      " [6.]\n",
      " [7.]\n",
      " [8.]\n",
      " [9.]]\n",
      "[[-1.54919334]\n",
      " [-1.161895  ]\n",
      " [-0.77459667]\n",
      " [-0.38729833]\n",
      " [ 0.        ]\n",
      " [ 0.38729833]\n",
      " [ 0.77459667]\n",
      " [ 1.161895  ]\n",
      " [ 1.54919334]]\n",
      "[[1.]\n",
      " [2.]\n",
      " [3.]\n",
      " [4.]\n",
      " [5.]\n",
      " [6.]\n",
      " [7.]\n",
      " [8.]\n",
      " [9.]]\n"
     ]
    }
   ],
   "source": [
    "# example of standardization\n",
    "from sklearn.preprocessing import StandardScaler\n",
    "from numpy import array\n",
    "# define dataset\n",
    "data = [float(x) for x in range(1, 10)]\n",
    "data = array(data).reshape(len(data), 1)\n",
    "print(data)\n",
    "# fit transform\n",
    "transformer = StandardScaler()\n",
    "transformer.fit(data)\n",
    "# difference transform\n",
    "transformed = transformer.transform(data)\n",
    "print(transformed)\n",
    "# invert difference\n",
    "inverted = transformer.inverse_transform(transformed)\n",
    "print(inverted)"
   ]
  },
  {
   "cell_type": "code",
   "execution_count": 2,
   "metadata": {},
   "outputs": [
    {
     "name": "stdout",
     "output_type": "stream",
     "text": [
      "[[1.]\n",
      " [2.]\n",
      " [3.]\n",
      " [4.]\n",
      " [5.]\n",
      " [6.]\n",
      " [7.]\n",
      " [8.]\n",
      " [9.]]\n",
      "[[0.   ]\n",
      " [0.125]\n",
      " [0.25 ]\n",
      " [0.375]\n",
      " [0.5  ]\n",
      " [0.625]\n",
      " [0.75 ]\n",
      " [0.875]\n",
      " [1.   ]]\n",
      "[[1.]\n",
      " [2.]\n",
      " [3.]\n",
      " [4.]\n",
      " [5.]\n",
      " [6.]\n",
      " [7.]\n",
      " [8.]\n",
      " [9.]]\n"
     ]
    }
   ],
   "source": [
    "# example of normalization\n",
    "from sklearn.preprocessing import MinMaxScaler\n",
    "from numpy import array\n",
    "# define dataset\n",
    "data = [float(x) for x in range(1, 10)]\n",
    "data = array(data).reshape(len(data), 1)\n",
    "print(data)\n",
    "# fit transform\n",
    "transformer = MinMaxScaler()\n",
    "transformer.fit(data)\n",
    "# difference transform\n",
    "transformed = transformer.transform(data)\n",
    "print(transformed)\n",
    "# invert difference\n",
    "inverted = transformer.inverse_transform(transformed)\n",
    "print(inverted)"
   ]
  },
  {
   "cell_type": "code",
   "execution_count": null,
   "metadata": {},
   "outputs": [],
   "source": []
  }
 ],
 "metadata": {
  "kernelspec": {
   "display_name": "Python 3",
   "language": "python",
   "name": "python3"
  },
  "language_info": {
   "codemirror_mode": {
    "name": "ipython",
    "version": 3
   },
   "file_extension": ".py",
   "mimetype": "text/x-python",
   "name": "python",
   "nbconvert_exporter": "python",
   "pygments_lexer": "ipython3",
   "version": "3.6.6"
  }
 },
 "nbformat": 4,
 "nbformat_minor": 2
}
