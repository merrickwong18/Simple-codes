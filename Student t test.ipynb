{
 "cells": [
  {
   "cell_type": "code",
   "execution_count": 1,
   "metadata": {},
   "outputs": [],
   "source": [
    "# Learning the t-distribution\n",
    "# t = observed difference between sample mean / standard error of the difference between the means\n",
    "# t = (mean(X1) - mean(X2)) / sed\n",
    "# where sed = sqrt(se1^2 + se2^2) and se = std / sqrt(n)\n",
    "# Assumtions: Samples drawn from Gaussian Distribution\n",
    "#             Size of each sample is approximately equal\n",
    "#             Samples have same variance"
   ]
  },
  {
   "cell_type": "code",
   "execution_count": 2,
   "metadata": {},
   "outputs": [],
   "source": [
    "import numpy as np\n",
    "import scipy as sp\n",
    "from scipy import stats"
   ]
  },
  {
   "cell_type": "code",
   "execution_count": 3,
   "metadata": {},
   "outputs": [],
   "source": [
    "def independent_t_test(data1, data2, alpha):\n",
    "    mean1, mean2 = np.mean(data1), np.mean(data2)\n",
    "    se1, se2 = sp.stats.sem(data1), sp.stats.sem(data2)\n",
    "    sed = np.sqrt(se1**2.0+se2**2.0)\n",
    "    t_stat = (mean1-mean2)/sed\n",
    "    df = len(data1)+len(data2)-2\n",
    "    cv = stats.t.ppf(1.0-alpha, df)\n",
    "    p = (1.0-stats.t.cdf(abs(t_stat),df))*2.0\n",
    "    return t_stat, df, cv, p"
   ]
  },
  {
   "cell_type": "code",
   "execution_count": 4,
   "metadata": {},
   "outputs": [],
   "source": [
    "# Generate some data\n",
    "data1 = 5*np.random.randn(100)+50\n",
    "data2 = 5*np.random.randn(100)+51"
   ]
  },
  {
   "cell_type": "code",
   "execution_count": 6,
   "metadata": {},
   "outputs": [
    {
     "name": "stdout",
     "output_type": "stream",
     "text": [
      "t = -2.585, p = 0.010\n"
     ]
    }
   ],
   "source": [
    "stat, p = stats.ttest_ind(data1, data2)\n",
    "print('t = {:.3f}, p = {:.3f}'.format(stat, p))"
   ]
  },
  {
   "cell_type": "code",
   "execution_count": 5,
   "metadata": {},
   "outputs": [
    {
     "name": "stdout",
     "output_type": "stream",
     "text": [
      "t_stat = -2.585, df = 198, cv = 1.653, p = 0.010\n"
     ]
    }
   ],
   "source": [
    "alpha = 0.05\n",
    "t_stat, df, cv, p = independent_t_test(data1,data2,0.05)\n",
    "print('t_stat = {:.3f}, df = {}, cv = {:.3f}, p = {:.3f}'.format(t_stat, df, cv, p))"
   ]
  },
  {
   "cell_type": "code",
   "execution_count": 7,
   "metadata": {},
   "outputs": [
    {
     "name": "stdout",
     "output_type": "stream",
     "text": [
      "Reject null hypotehsis that the means are equal\n",
      "Reject null hypothesis that the means are equal\n"
     ]
    }
   ],
   "source": [
    "if abs(t_stat)<=cv:\n",
    "    print('Accept null hypothesis that the means are equal')\n",
    "else:\n",
    "    print('Reject null hypotehsis that the means are equal')\n",
    "\n",
    "if p>alpha:\n",
    "    print('Accept null hypothesis that the means are equal')\n",
    "else:\n",
    "    print('Reject null hypothesis that the means are equal')"
   ]
  },
  {
   "cell_type": "code",
   "execution_count": null,
   "metadata": {},
   "outputs": [],
   "source": []
  },
  {
   "cell_type": "code",
   "execution_count": null,
   "metadata": {},
   "outputs": [],
   "source": []
  }
 ],
 "metadata": {
  "kernelspec": {
   "display_name": "Python 3",
   "language": "python",
   "name": "python3"
  },
  "language_info": {
   "codemirror_mode": {
    "name": "ipython",
    "version": 3
   },
   "file_extension": ".py",
   "mimetype": "text/x-python",
   "name": "python",
   "nbconvert_exporter": "python",
   "pygments_lexer": "ipython3",
   "version": "3.6.6"
  }
 },
 "nbformat": 4,
 "nbformat_minor": 2
}
